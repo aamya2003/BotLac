{
 "cells": [
  {
   "cell_type": "markdown",
   "metadata": {},
   "source": [
    "# Command Messages"
   ]
  },
  {
   "cell_type": "markdown",
   "metadata": {},
   "source": [
    "#### When Should Us Use Command Messge?\n",
    "#### Type Of Message Commands"
   ]
  },
  {
   "cell_type": "markdown",
   "metadata": {},
   "source": [
    "##### * We Use A Command Message When We Want To Ask Bot About Something"
   ]
  },
  {
   "cell_type": "markdown",
   "metadata": {},
   "source": [
    "#### For Exam: \n",
    "\n",
    "    When We Need Get My Id or Username Or anOther Info.\n",
    "\n",
    "    When We Need Make Bot Do Something Like Show Us Available Books Or DateTime Now...\n",
    "    \n",
    "    When We Give Data To Bot And Ask Bot To Handle this data such as add 1 + 2 =?, make reservation in a restaurant\n"
   ]
  },
  {
   "cell_type": "markdown",
   "metadata": {},
   "source": [
    "### How can DO THAT?!"
   ]
  },
  {
   "cell_type": "markdown",
   "metadata": {},
   "source": [
    "- 1- Activate a handler to receive command messages\n",
    "\n",
    "- 2- Write The Commands What We want\n",
    "\n",
    "- 3- Write Code ... \n",
    "\n",
    "* A Command Msg Starts With Slash ( / ) like /start"
   ]
  },
  {
   "cell_type": "code",
   "execution_count": 19,
   "metadata": {},
   "outputs": [],
   "source": [
    "import telebot\n",
    "from telebot.util import content_type_media\n",
    "token = \"7515698207:AAH8vxp3bTLzpkMfb4g_l0cuURiQ4cEbA2Q\"\n",
    "bot = telebot.TeleBot(token)"
   ]
  },
  {
   "cell_type": "code",
   "execution_count": null,
   "metadata": {},
   "outputs": [],
   "source": [
    "# Create Start & Help Command To Send Description Or How can use Bot?"
   ]
  },
  {
   "cell_type": "code",
   "execution_count": 7,
   "metadata": {},
   "outputs": [],
   "source": [
    "@bot.message_handler(commands=['start', 'help'])\n",
    "def handlerCommandStart(msg):\n",
    "    bot.send_message(msg.chat.id, \"This Bot For Helping You, Have A nice Try!\")\n",
    "\n",
    "bot.polling()"
   ]
  },
  {
   "cell_type": "markdown",
   "metadata": {},
   "source": [
    "<!--  -->"
   ]
  },
  {
   "cell_type": "markdown",
   "metadata": {},
   "source": [
    "<!--  -->"
   ]
  },
  {
   "cell_type": "code",
   "execution_count": null,
   "metadata": {},
   "outputs": [],
   "source": [
    "# Create get_myid Command To Get My Id"
   ]
  },
  {
   "cell_type": "code",
   "execution_count": 8,
   "metadata": {},
   "outputs": [],
   "source": [
    "@bot.message_handler(commands=['get_myid'])\n",
    "def handlerCommandMyID(msg):\n",
    "    bot.send_message(msg.chat.id, f\"Your Id is: {msg.from_user.id}\")\n",
    "\n",
    "bot.polling()"
   ]
  },
  {
   "cell_type": "markdown",
   "metadata": {},
   "source": [
    "<!--  -->"
   ]
  },
  {
   "cell_type": "markdown",
   "metadata": {},
   "source": [
    "<!--  -->"
   ]
  },
  {
   "cell_type": "code",
   "execution_count": null,
   "metadata": {},
   "outputs": [],
   "source": [
    "# Create calc_area Command To Calc Area"
   ]
  },
  {
   "cell_type": "code",
   "execution_count": 21,
   "metadata": {},
   "outputs": [
    {
     "name": "stdout",
     "output_type": "stream",
     "text": [
      "10 20\n"
     ]
    }
   ],
   "source": [
    "from telebot import util\n",
    "\n",
    "@bot.message_handler(commands=['calc_area'])\n",
    "def handlerCommandMyID(msg):\n",
    "    args = util.extract_arguments(msg.text)\n",
    "    print(args)\n",
    "    # bot.send_message(msg.chat.id, \"Area = ...\")\n",
    "\n",
    "\n",
    "bot.polling()"
   ]
  },
  {
   "cell_type": "code",
   "execution_count": 23,
   "metadata": {},
   "outputs": [
    {
     "name": "stdout",
     "output_type": "stream",
     "text": [
      "10 20\n"
     ]
    }
   ],
   "source": [
    "from telebot import util\n",
    "\n",
    "@bot.message_handler(commands=['calc_area'])\n",
    "def handlerCommandMyID(msg):\n",
    "    args = util.extract_arguments(msg.text)\n",
    "    print(args, type(args), len(args))\n",
    "    # print(type(args))\n",
    "    # print(len(args))\n",
    "    # bot.send_message(msg.chat.id, \"Area = ...\")\n",
    "\n",
    "\n",
    "bot.polling()"
   ]
  },
  {
   "cell_type": "code",
   "execution_count": 24,
   "metadata": {},
   "outputs": [
    {
     "name": "stdout",
     "output_type": "stream",
     "text": [
      "10 20\n"
     ]
    }
   ],
   "source": [
    "from telebot import util\n",
    "\n",
    "@bot.message_handler(commands=['calc_area'])\n",
    "def handlerCommandMyID(msg):\n",
    "    args = util.extract_arguments(msg.text)\n",
    "    print(args, type(args), len(args))\n",
    "    # print(type(args))\n",
    "    # print(len(args))\n",
    "    # bot.send_message(msg.chat.id, \"Area = ...\")\n",
    "\n",
    "\n",
    "bot.polling()"
   ]
  },
  {
   "cell_type": "code",
   "execution_count": null,
   "metadata": {},
   "outputs": [],
   "source": [
    "..."
   ]
  },
  {
   "cell_type": "markdown",
   "metadata": {},
   "source": [
    "<!--  -->"
   ]
  },
  {
   "cell_type": "markdown",
   "metadata": {},
   "source": [
    "<!--  -->"
   ]
  },
  {
   "cell_type": "code",
   "execution_count": null,
   "metadata": {},
   "outputs": [],
   "source": [
    "# Create save_me Command save my data on bot\n",
    "\n",
    "# /save_me name age"
   ]
  },
  {
   "cell_type": "code",
   "execution_count": null,
   "metadata": {},
   "outputs": [],
   "source": [
    "from telebot import util\n",
    "\n",
    "@bot.message_handler(commands=['save_me'])\n",
    "def handlerCommandMyID(msg):\n",
    "\n",
    "    args = util.extract_arguments(msg.text)\n",
    "\n",
    "    print(args)\n",
    "    print(type(args))\n",
    "    print(len(args))\n",
    "\n",
    "    bot.send_message(msg.chat.id, \"Your Info has been saved.\")\n",
    "\n",
    "\n",
    "bot.polling()"
   ]
  },
  {
   "cell_type": "markdown",
   "metadata": {},
   "source": [
    "<!--  -->"
   ]
  },
  {
   "cell_type": "markdown",
   "metadata": {},
   "source": [
    "<!--  -->"
   ]
  },
  {
   "cell_type": "code",
   "execution_count": null,
   "metadata": {},
   "outputs": [],
   "source": [
    "# Create start_dinner_reminder Command To Set up dinner reminders\n",
    "\n",
    "# /start_dinner_reminder time "
   ]
  },
  {
   "cell_type": "code",
   "execution_count": null,
   "metadata": {},
   "outputs": [],
   "source": [
    "@bot.message_handler(commands=['start_dinner_reminder'])\n",
    "def handlerCommandMyID(msg):\n",
    "    args = util.extract_arguments(msg.text)\n",
    "    args_list = args.split(\" \")\n",
    "    time = args_list[0]\n",
    "    bot.send_message(msg.chat.id, f\"You will be reminded of dinner time every day at {time}\")\n",
    "\n",
    "bot.polling()"
   ]
  }
 ],
 "metadata": {
  "kernelspec": {
   "display_name": "Python 3",
   "language": "python",
   "name": "python3"
  },
  "language_info": {
   "codemirror_mode": {
    "name": "ipython",
    "version": 3
   },
   "file_extension": ".py",
   "mimetype": "text/x-python",
   "name": "python",
   "nbconvert_exporter": "python",
   "pygments_lexer": "ipython3",
   "version": "3.12.4"
  }
 },
 "nbformat": 4,
 "nbformat_minor": 2
}
